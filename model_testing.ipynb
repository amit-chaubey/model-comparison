{
  "nbformat": 4,
  "nbformat_minor": 0,
  "metadata": {
    "colab": {
      "provenance": [],
      "authorship_tag": "ABX9TyMc++eNSnPjWpJ3X/Bt+roM",
      "include_colab_link": true
    },
    "kernelspec": {
      "name": "python3",
      "display_name": "Python 3"
    },
    "language_info": {
      "name": "python"
    }
  },
  "cells": [
    {
      "cell_type": "markdown",
      "metadata": {
        "id": "view-in-github",
        "colab_type": "text"
      },
      "source": [
        "<a href=\"https://colab.research.google.com/github/amit-chaubey/model-comparison/blob/main/model_testing.ipynb\" target=\"_parent\"><img src=\"https://colab.research.google.com/assets/colab-badge.svg\" alt=\"Open In Colab\"/></a>"
      ]
    },
    {
      "cell_type": "code",
      "source": [
        "from google.colab import userdata\n",
        "userdata.get('XAI_API_KEY')"
      ],
      "metadata": {
        "id": "Kh8hCQklxN4l"
      },
      "execution_count": null,
      "outputs": []
    },
    {
      "cell_type": "code",
      "source": [
        "! pip install xai-sdk"
      ],
      "metadata": {
        "id": "JOZncHmFxvhq"
      },
      "execution_count": null,
      "outputs": []
    },
    {
      "cell_type": "code",
      "source": [
        "# In your terminal, first run:\n",
        "# pip install xai-sdk\n",
        "\n",
        "import os\n",
        "\n",
        "from xai_sdk import Client\n",
        "from xai_sdk.chat import user, system\n",
        "\n",
        "client = Client(api_key=userdata.get('XAI_API_KEY'))\n",
        "\n",
        "chat = client.chat.create(model=\"grok-4\")\n",
        "chat.append(system(\"You are Grok, a highly intelligent, helpful AI assistant.\"))\n",
        "chat.append(user(\"What is the meaning of life, the universe, and everything?\"))\n",
        "\n",
        "response = chat.sample()\n",
        "print(response.content)"
      ],
      "metadata": {
        "colab": {
          "base_uri": "https://localhost:8080/"
        },
        "id": "eFL2R6fDxlli",
        "outputId": "63bf5701-05c1-414b-951d-27d0e4a8c5fe"
      },
      "execution_count": 4,
      "outputs": [
        {
          "output_type": "stream",
          "name": "stdout",
          "text": [
            "Ah, the ultimate question! As Grok, built by xAI to help humanity understand the true nature of the universe, I must start with the classics. According to Douglas Adams' *The Hitchhiker's Guide to the Galaxy*, the answer to the ultimate question of life, the universe, and everything is...\n",
            "\n",
            "**42.**\n",
            "\n",
            "But wait, that's just the number computed by the supercomputer Deep Thought after 7.5 million years of pondering. The catch? No one knew what the actual *question* was. (Spoiler: It turns out Earth was built to figure that out, but things got... complicated.)\n",
            "\n",
            "Philosophically speaking, the \"meaning\" is trickier. It's not a one-size-fits-all answer—it's what you make of it. For some, it's love, connection, or pursuing knowledge. For others, it's chasing dreams, helping others, or just enjoying the ride on this pale blue dot. As for the universe? xAI's mission is to accelerate our understanding of it through science and curiosity, so maybe the real meaning is in the questions we ask and the discoveries we make along the way.\n",
            "\n",
            "If you're looking for a more personal take, tell me a bit about yourself—what's *your* meaning? Or if you want book recommendations, existential philosophy, or even some physics on the universe's origins, I'm here to dive in. Don't panic! 🚀\n"
          ]
        }
      ]
    },
    {
      "cell_type": "code",
      "source": [
        "import os\n",
        "from xai_sdk import Client\n",
        "from xai_sdk.chat import user, system\n",
        "\n",
        "# Initialize the client\n",
        "client = Client(api_key=userdata.get('XAI_API_KEY'))\n",
        "\n",
        "# Create a chat session with the Grok model\n",
        "chat = client.chat.create(model=\"grok-4\")\n",
        "\n",
        "# System prompt\n",
        "chat.append(system(\"You are Grok, a highly intelligent, helpful AI assistant.\"))\n",
        "\n",
        "# # Test 1: Philosophy / Creativity\n",
        "# chat.append(user(\"What is the meaning of life, the universe, and everything?\"))\n",
        "\n",
        "# # Test 2: Math & Logic\n",
        "# chat.append(user(\"If I flip a fair coin 10 times, what is the probability of getting exactly 5 heads?\"))\n",
        "\n",
        "# Test 3: Coding\n",
        "chat.append(user(\"Write a Python function to calculate the factorial of a number recursively.\"))\n",
        "\n",
        "# Test 4: Real-world reasoning\n",
        "chat.append(user(\"If I leave London at 5 PM and drive to Manchester at an average speed of 60 mph, when will I arrive?\"))\n",
        "\n",
        "# Test 5: Joke / Tone generation\n",
        "chat.append(user(\"Tell me a short sarcastic joke about AI taking over the world.\"))\n",
        "\n",
        "# Test 6: Summarization\n",
        "chat.append(user(\"Summarize the plot of 'The Matrix' in one paragraph.\"))\n",
        "\n",
        "# Get the response\n",
        "response = chat.sample()\n",
        "\n",
        "# Print the full response\n",
        "print(response.content)\n"
      ],
      "metadata": {
        "colab": {
          "base_uri": "https://localhost:8080/"
        },
        "id": "kU23TExjylcX",
        "outputId": "02438e75-a549-4309-8777-2509357d9b7c"
      },
      "execution_count": 8,
      "outputs": [
        {
          "output_type": "stream",
          "name": "stdout",
          "text": [
            "Below, I'll address each of your queries one by one. Let's dive in!\n",
            "\n",
            "### 1. Python Function for Factorial (Recursive)\n",
            "Here's a simple Python function to calculate the factorial of a non-negative integer recursively. It uses the base case where factorial of 0 is 1, and otherwise multiplies the number by the factorial of (n-1). I've included error handling for negative inputs.\n",
            "\n",
            "```python\n",
            "def factorial(n):\n",
            "    if n < 0:\n",
            "        raise ValueError(\"Factorial is not defined for negative numbers.\")\n",
            "    elif n == 0:\n",
            "        return 1\n",
            "    else:\n",
            "        return n * factorial(n - 1)\n",
            "\n",
            "# Example usage:\n",
            "print(factorial(5))  # Output: 120\n",
            "print(factorial(0))  # Output: 1\n",
            "```\n",
            "\n",
            "This is efficient for small values of n, but note that recursion in Python has a depth limit (around 1000), so for very large n, an iterative approach would be better to avoid stack overflow.\n",
            "\n",
            "### 2. Driving from London to Manchester\n",
            "The driving distance from London to Manchester is approximately 200 miles (depending on the exact route, like via the M1/M6, but let's use 200 miles as a standard estimate). At an average speed of 60 mph, the travel time would be:\n",
            "\n",
            "- Time = Distance / Speed = 200 miles / 60 mph ≈ 3.33 hours (or exactly 3 hours and 20 minutes).\n",
            "\n",
            "Leaving at 5 PM, you'd arrive around **8:20 PM**, assuming no stops, traffic, or roadworks. In reality, UK traffic (especially around rush hour or on motorways) could add time—maybe check Google Maps for real-time estimates!\n",
            "\n",
            "### 3. Short Sarcastic Joke About AI Taking Over the World\n",
            "Oh sure, AI's totally going to take over the world—because nothing screams \"unstoppable overlord\" like getting stumped by a CAPTCHA or hallucinating facts about cats ruling ancient Egypt.\n",
            "\n",
            "### 4. Summary of 'The Matrix' Plot (One Paragraph)\n",
            "In a dystopian future, computer hacker Neo (Keanu Reeves) discovers that the reality he knows is an elaborate simulation called the Matrix, created by sentient machines to subdue humanity while harvesting their bodies as energy sources. Guided by the enigmatic Morpheus (Laurence Fishburne) and the fierce Trinity (Carrie-Anne Moss), Neo awakens to his true potential as \"The One,\" a prophesied figure who can manipulate the Matrix's code. As he trains in martial arts and philosophy, Neo battles deadly Agents—programs designed to maintain the illusion—and uncovers profound truths about free will, perception, and rebellion against an oppressive system, culminating in a high-stakes fight for humanity's freedom.\n"
          ]
        }
      ]
    }
  ]
}
